{
 "cells": [
  {
   "cell_type": "code",
   "execution_count": 57,
   "id": "6c7efc7e",
   "metadata": {},
   "outputs": [
    {
     "name": "stdout",
     "output_type": "stream",
     "text": [
      "GPU name:  [PhysicalDevice(name='/physical_device:GPU:0', device_type='GPU')]\n"
     ]
    }
   ],
   "source": [
    "import tensorflow as tf\n",
    "print('GPU name: ', tf.config.experimental.list_physical_devices('GPU'))\n",
    "from tensorflow import keras\n",
    "import matplotlib.pyplot as plt\n",
    "import numpy as np\n"
   ]
  },
  {
   "cell_type": "code",
   "execution_count": 3,
   "id": "d8316d1f",
   "metadata": {},
   "outputs": [
    {
     "name": "stderr",
     "output_type": "stream",
     "text": [
      "2023-02-26 16:40:46.410357: I tensorflow/core/platform/cpu_feature_guard.cc:193] This TensorFlow binary is optimized with oneAPI Deep Neural Network Library (oneDNN) to use the following CPU instructions in performance-critical operations:  AVX2 AVX512F AVX512_VNNI FMA\n",
      "To enable them in other operations, rebuild TensorFlow with the appropriate compiler flags.\n",
      "2023-02-26 16:40:46.411696: I tensorflow/stream_executor/cuda/cuda_gpu_executor.cc:961] could not open file to read NUMA node: /sys/bus/pci/devices/0000:01:00.0/numa_node\n",
      "Your kernel may have been built without NUMA support.\n",
      "2023-02-26 16:40:46.411774: I tensorflow/stream_executor/cuda/cuda_gpu_executor.cc:961] could not open file to read NUMA node: /sys/bus/pci/devices/0000:01:00.0/numa_node\n",
      "Your kernel may have been built without NUMA support.\n",
      "2023-02-26 16:40:46.411789: I tensorflow/stream_executor/cuda/cuda_gpu_executor.cc:961] could not open file to read NUMA node: /sys/bus/pci/devices/0000:01:00.0/numa_node\n",
      "Your kernel may have been built without NUMA support.\n",
      "2023-02-26 16:40:47.061880: I tensorflow/stream_executor/cuda/cuda_gpu_executor.cc:961] could not open file to read NUMA node: /sys/bus/pci/devices/0000:01:00.0/numa_node\n",
      "Your kernel may have been built without NUMA support.\n",
      "2023-02-26 16:40:47.061951: I tensorflow/stream_executor/cuda/cuda_gpu_executor.cc:961] could not open file to read NUMA node: /sys/bus/pci/devices/0000:01:00.0/numa_node\n",
      "Your kernel may have been built without NUMA support.\n",
      "2023-02-26 16:40:47.061957: I tensorflow/core/common_runtime/gpu/gpu_device.cc:1616] Could not identify NUMA node of platform GPU id 0, defaulting to 0.  Your kernel may not have been built with NUMA support.\n",
      "2023-02-26 16:40:47.061982: I tensorflow/stream_executor/cuda/cuda_gpu_executor.cc:961] could not open file to read NUMA node: /sys/bus/pci/devices/0000:01:00.0/numa_node\n",
      "Your kernel may have been built without NUMA support.\n",
      "2023-02-26 16:40:47.062080: I tensorflow/core/common_runtime/gpu/gpu_device.cc:1532] Created device /job:localhost/replica:0/task:0/device:GPU:0 with 3447 MB memory:  -> device: 0, name: NVIDIA GeForce RTX 3060 Laptop GPU, pci bus id: 0000:01:00.0, compute capability: 8.6\n",
      "2023-02-26 16:40:47.945939: I tensorflow/stream_executor/cuda/cuda_blas.cc:1786] TensorFloat-32 will be used for the matrix multiplication. This will only be logged once.\n"
     ]
    },
    {
     "data": {
      "text/plain": [
       "<tf.Tensor: shape=(2, 4), dtype=float32, numpy=\n",
       "array([[-0.1559557 ,  0.13673338,  0.03280183, -0.11284401],\n",
       "       [-0.1559557 ,  0.13673338,  0.03280183, -0.11284401]],\n",
       "      dtype=float32)>"
      ]
     },
     "execution_count": 3,
     "metadata": {},
     "output_type": "execute_result"
    }
   ],
   "source": [
    "\n",
    "class Linear(keras.layers.Layer):\n",
    "    \"\"\"y = w.x + b\"\"\"\n",
    "\n",
    "    def __init__(self, units=32):\n",
    "        super().__init__()\n",
    "        self.units = units\n",
    "\n",
    "    def build(self, input_shape):\n",
    "        self.w = self.add_weight(\n",
    "            shape=(input_shape[-1], self.units),\n",
    "            initializer=\"random_normal\",\n",
    "            trainable=True,\n",
    "        )\n",
    "        self.b = self.add_weight(\n",
    "            shape=(self.units,), initializer=\"random_normal\", trainable=True\n",
    "        )\n",
    "\n",
    "    def call(self, inputs):\n",
    "        return tf.matmul(inputs, self.w) + self.b\n",
    "\n",
    "\n",
    "# Instantiate our lazy layer.\n",
    "linear_layer = Linear(4)\n",
    "# linear_layer\n",
    "# # This will also call `build(input_shape)` and create the weights.\n",
    "y = linear_layer(tf.ones((2, 2)))\n",
    "\n",
    "y"
   ]
  },
  {
   "cell_type": "code",
   "execution_count": 4,
   "id": "27deabed",
   "metadata": {},
   "outputs": [
    {
     "data": {
      "text/plain": [
       "<tf.Tensor: shape=(2, 4), dtype=float32, numpy=\n",
       "array([[ 0.071757  , -0.09422018, -0.0201699 , -0.02749731],\n",
       "       [ 0.071757  , -0.09422018, -0.0201699 , -0.02749731]],\n",
       "      dtype=float32)>"
      ]
     },
     "execution_count": 4,
     "metadata": {},
     "output_type": "execute_result"
    }
   ],
   "source": [
    "\n",
    "class Quadratic(keras.layers.Layer):\n",
    "    \"\"\"y = v.x^2 + w.x + b\"\"\"\n",
    "\n",
    "    def __init__(self, units=32):\n",
    "        super().__init__()\n",
    "        self.units = units\n",
    "\n",
    "    def build(self, input_shape):\n",
    "        self.v = self.add_weight(\n",
    "            shape=(input_shape[-1], self.units),\n",
    "            initializer=\"random_normal\",\n",
    "            trainable=True,\n",
    "        )\n",
    "        self.w = self.add_weight(\n",
    "            shape=(input_shape[-1], self.units),\n",
    "            initializer=\"random_normal\",\n",
    "            trainable=True,\n",
    "        )\n",
    "        self.b = self.add_weight(\n",
    "            shape=(self.units,), initializer=\"random_normal\", trainable=True\n",
    "        )\n",
    "\n",
    "    def call(self, inputs):\n",
    "        return tf.matmul(tf.math.square(inputs), self.v) + tf.matmul(inputs, self.w) + self.b\n",
    "\n",
    "\n",
    "# Instantiate our lazy layer.\n",
    "quadratic_layer = Quadratic(4)\n",
    "# linear_layer\n",
    "# # This will also call `build(input_shape)` and create the weights.\n",
    "y = quadratic_layer(tf.ones((2, 2)))\n",
    "\n",
    "y"
   ]
  },
  {
   "cell_type": "code",
   "execution_count": 47,
   "id": "8d7d5ab4",
   "metadata": {},
   "outputs": [
    {
     "name": "stdout",
     "output_type": "stream",
     "text": [
      "Step: 0 Loss: 2.3181254863739014\n",
      "Step: 100 Loss: 2.300809383392334\n",
      "Step: 200 Loss: 2.101893901824951\n",
      "Step: 300 Loss: 2.1450233459472656\n",
      "Step: 400 Loss: 1.9376022815704346\n",
      "Step: 500 Loss: 1.9138786792755127\n",
      "Step: 600 Loss: 1.8107740879058838\n",
      "Step: 700 Loss: 1.695183515548706\n",
      "Step: 800 Loss: 1.664708137512207\n",
      "Step: 900 Loss: 1.6805589199066162\n"
     ]
    }
   ],
   "source": [
    "\n",
    "\n",
    "# Prepare a dataset.\n",
    "(x_train, y_train), _ = tf.keras.datasets.mnist.load_data()\n",
    "dataset = tf.data.Dataset.from_tensor_slices(\n",
    "    (x_train.reshape(60000, 784).astype(\"float32\") / 255, y_train)\n",
    ")\n",
    "dataset = dataset.shuffle(buffer_size=1024).batch(64)\n",
    "\n",
    "# Instantiate our linear layer (defined above) with 10 units.\n",
    "linear_layer = Linear(10)\n",
    "# quadratic_layer = Quadratic(10)\n",
    "\n",
    "# Instantiate a logistic loss function that expects integer targets.\n",
    "loss_fn = tf.keras.losses.SparseCategoricalCrossentropy(from_logits=True)\n",
    "\n",
    "# Instantiate an optimizer.\n",
    "optimizer = tf.keras.optimizers.SGD(learning_rate=1e-3)\n",
    "\n",
    "# Iterate over the batches of the dataset.\n",
    "for step, (x, y) in enumerate(dataset):\n",
    "\n",
    "    # Open a GradientTape.\n",
    "    with tf.GradientTape() as tape:\n",
    "        # Forward pass.\n",
    "        logits = linear_layer(x)\n",
    "\n",
    "        # Loss value for this batch.\n",
    "        loss = loss_fn(y, logits)\n",
    "\n",
    "    # Get gradients of the loss wrt the weights.\n",
    "    gradients = tape.gradient(loss, linear_layer.trainable_weights)\n",
    "\n",
    "    # Update the weights of our linear layer.\n",
    "    optimizer.apply_gradients(zip(gradients, linear_layer.trainable_weights))\n",
    "\n",
    "    # Logging.\n",
    "    if step % 100 == 0:\n",
    "        print(\"Step:\", step, \"Loss:\", float(loss))\n",
    "        # print(gradients)\n"
   ]
  },
  {
   "cell_type": "code",
   "execution_count": 69,
   "id": "2222ccf0",
   "metadata": {},
   "outputs": [
    {
     "name": "stdout",
     "output_type": "stream",
     "text": [
      "Index(['TIMESTAMP_END', 'CO2', 'FC', 'G', 'H', 'LE', 'WD', 'WS', 'USTAR', 'PA',\n",
      "       'RH', 'TA', 'NETRAD', 'SW_IN', 'SW_OUT', 'LW_IN', 'LW_OUT', 'P',\n",
      "       'T_SONIC', 'TS_1_1_1', 'TS_1_2_1', 'TS_1_3_1', 'WTD', 'FC_F', 'H_F',\n",
      "       'LE_F', 'FCH4'],\n",
      "      dtype='object')\n"
     ]
    },
    {
     "data": {
      "text/plain": [
       "<BatchDataset element_spec=(TensorSpec(shape=(None, 9), dtype=tf.float64, name=None), TensorSpec(shape=(None, 1), dtype=tf.float64, name=None))>"
      ]
     },
     "execution_count": 69,
     "metadata": {},
     "output_type": "execute_result"
    }
   ],
   "source": [
    "import pandas as pd\n",
    "Start,End = 14,20\n",
    "for i in range(Start,End):\n",
    "    i1,i2=str(i),str(i+1)\n",
    "    if i < 18:\n",
    "        V2 = '_V2'\n",
    "    else:\n",
    "        V2 = ''\n",
    "    root_url = f\"Data/CA-DBB_HH_20{i1}01010000_20{i2}01010000{V2}.csv\"\n",
    "    df = pd.read_csv(root_url,parse_dates=['TIMESTAMP_START'],na_values=-9999)\n",
    "    df = df.set_index('TIMESTAMP_START')\n",
    "    if i == Start:\n",
    "        Data = df.copy()\n",
    "    else:\n",
    "        Data = pd.concat(\n",
    "            [Data,df]\n",
    "        )\n",
    "\n",
    "\n",
    "print(Data.columns)\n",
    "Data = Data[['CO2', 'FC', 'FCH4', 'RH', 'TA', 'NETRAD', 'SW_IN', 'LW_OUT', \n",
    "    'P', 'TS_1_1_1', 'TS_1_2_1', 'TS_1_3_1', 'WTD',\n",
    "       ]].dropna()#.describe()\n",
    "x_train = Data[['TA','RH','SW_IN', 'LW_OUT', \n",
    "    'P', 'TS_1_1_1', 'TS_1_2_1', 'TS_1_3_1', 'WTD',]]\n",
    "\n",
    "\n",
    "y_train = Data[['FC',]]\n",
    "\n",
    "numeric_dataset = tf.data.Dataset.from_tensor_slices((x_train, y_train))\n",
    "dataset = numeric_dataset.shuffle(y_train.shape[0]*2).batch(32)\n",
    "dataset\n"
   ]
  },
  {
   "cell_type": "code",
   "execution_count": 70,
   "id": "98dbadaf",
   "metadata": {},
   "outputs": [
    {
     "name": "stdout",
     "output_type": "stream",
     "text": [
      "Step: 0 Loss: 366.90777587890625\n",
      "Step: 20 Loss: 176.35292053222656\n",
      "Step: 40 Loss: 109.78567504882812\n",
      "Step: 60 Loss: 86.64694213867188\n",
      "Step: 80 Loss: 63.04811096191406\n",
      "Step: 100 Loss: 44.86410903930664\n",
      "Step: 120 Loss: 31.258987426757812\n",
      "Step: 140 Loss: 20.99659538269043\n",
      "Step: 160 Loss: 15.591156005859375\n",
      "Step: 180 Loss: 13.000100135803223\n",
      "Step: 200 Loss: 7.79887580871582\n",
      "Step: 220 Loss: 7.274327278137207\n",
      "Step: 240 Loss: 8.399686813354492\n",
      "Step: 260 Loss: 4.178840160369873\n",
      "Step: 280 Loss: 3.0784554481506348\n",
      "Step: 300 Loss: 4.357378959655762\n",
      "Step: 320 Loss: 4.146191596984863\n",
      "Step: 340 Loss: 3.1943397521972656\n",
      "Step: 360 Loss: 3.8595407009124756\n",
      "Step: 380 Loss: 3.901423454284668\n",
      "Step: 400 Loss: 5.0152435302734375\n",
      "Step: 420 Loss: 3.932537794113159\n",
      "Step: 440 Loss: 2.568971872329712\n",
      "Step: 460 Loss: 5.402882099151611\n",
      "Step: 480 Loss: 7.867133140563965\n",
      "Step: 500 Loss: 4.454964637756348\n",
      "Step: 520 Loss: 4.954476356506348\n"
     ]
    }
   ],
   "source": [
    "\n",
    "# Instantiate our linear layer (defined above) with 10 units.\n",
    "linear_layer = Linear(10)\n",
    "\n",
    "# Instantiate a MSE loss function\n",
    "loss_fn = tf.keras.losses.MeanSquaredError()\n",
    "\n",
    "# Instantiate an optimizer.\n",
    "optimizer = tf.keras.optimizers.Adam(learning_rate=1e-3)\n",
    "\n",
    "# Iterate over the batches of the dataset.\n",
    "for step, (x, y) in enumerate(dataset):\n",
    "\n",
    "    # Open a GradientTape.\n",
    "    with tf.GradientTape(persistent=True) as tape:\n",
    "        tape.watch(x)\n",
    "        \n",
    "        # Forward pass.\n",
    "        pred = linear_layer(x)\n",
    "\n",
    "        # Loss value for this batch.\n",
    "        loss = loss_fn(y, pred)\n",
    "\n",
    "    # Get gradients of the loss wrt the weights.\n",
    "    gradients = tape.gradient(loss, linear_layer.trainable_weights)\n",
    "\n",
    "    # Get gradients of the pred wrt x\n",
    "    dy_dx = tape.gradient(pred,x)\n",
    "\n",
    "    # Update the weights of our linear layer.\n",
    "    optimizer.apply_gradients(zip(gradients, linear_layer.trainable_weights))\n",
    "\n",
    "    # Logging.\n",
    "    if step % 20 == 0:\n",
    "        print(\"Step:\", step, \"Loss:\", float(loss))\n",
    "        # print(gradients)\n"
   ]
  },
  {
   "cell_type": "code",
   "execution_count": 71,
   "id": "b568657a",
   "metadata": {},
   "outputs": [
    {
     "name": "stdout",
     "output_type": "stream",
     "text": [
      "28\n",
      "(28, 1)\n"
     ]
    }
   ],
   "source": [
    "print(len(dy_dx))\n",
    "print(y.shape)"
   ]
  },
  {
   "cell_type": "code",
   "execution_count": 97,
   "id": "a77b7713",
   "metadata": {},
   "outputs": [
    {
     "name": "stdout",
     "output_type": "stream",
     "text": [
      "Index(['TIMESTAMP_END', 'CO2', 'FC', 'G', 'H', 'LE', 'WD', 'WS', 'USTAR', 'PA',\n",
      "       'RH', 'TA', 'NETRAD', 'SW_IN', 'SW_OUT', 'LW_IN', 'LW_OUT', 'P',\n",
      "       'T_SONIC', 'TS_1_1_1', 'TS_1_2_1', 'TS_1_3_1', 'WTD', 'FC_F', 'H_F',\n",
      "       'LE_F', 'FCH4'],\n",
      "      dtype='object')\n"
     ]
    }
   ],
   "source": [
    "import pandas as pd\n",
    "Start,End = 14,20\n",
    "for i in range(Start,End):\n",
    "    i1,i2=str(i),str(i+1)\n",
    "    if i < 18:\n",
    "        V2 = '_V2'\n",
    "    else:\n",
    "        V2 = ''\n",
    "    root_url = f\"Data/CA-DBB_HH_20{i1}01010000_20{i2}01010000{V2}.csv\"\n",
    "    df = pd.read_csv(root_url,parse_dates=['TIMESTAMP_START'],na_values=-9999)\n",
    "    df = df.set_index('TIMESTAMP_START')\n",
    "    if i == Start:\n",
    "        Data = df.copy()\n",
    "    else:\n",
    "        Data = pd.concat(\n",
    "            [Data,df]\n",
    "        )\n",
    "\n",
    "\n",
    "print(Data.columns)\n",
    "Data = Data[['CO2', 'FC', 'FCH4', 'RH', 'TA', 'NETRAD', 'SW_IN', 'LW_OUT', \n",
    "    'P', 'TS_1_1_1', 'TS_1_2_1', 'TS_1_3_1', 'WTD',\n",
    "       ]].dropna()#.describe()\n",
    "x_train = Data[['TA','RH','SW_IN', 'LW_OUT', \n",
    "    'P', 'TS_1_1_1', 'TS_1_2_1', 'TS_1_3_1', 'WTD',]]\n",
    "\n",
    "\n",
    "y_train = Data[['FC',]]\n",
    "\n",
    "numeric_dataset = tf.data.Dataset.from_tensor_slices((x_train, y_train))\n",
    "dataset = numeric_dataset.shuffle(y_train.shape[0]*2).batch(64)\n",
    "# All = numeric_dataset.shuffle(y_train.shape[0]*2).batch(64)\n",
    "\n"
   ]
  },
  {
   "cell_type": "code",
   "execution_count": 98,
   "id": "beda503a",
   "metadata": {},
   "outputs": [
    {
     "name": "stdout",
     "output_type": "stream",
     "text": [
      "Model: \"Model\"\n",
      "_________________________________________________________________\n",
      " Layer (type)                Output Shape              Param #   \n",
      "=================================================================\n",
      " input_4 (InputLayer)        [(None, 9)]               0         \n",
      "                                                                 \n",
      " dense_6 (Dense)             (None, 35)                350       \n",
      "                                                                 \n",
      " dense_7 (Dense)             (None, 1)                 36        \n",
      "                                                                 \n",
      "=================================================================\n",
      "Total params: 386\n",
      "Trainable params: 386\n",
      "Non-trainable params: 0\n",
      "_________________________________________________________________\n",
      "None\n"
     ]
    }
   ],
   "source": [
    "def make_model(input_shape,hidden_nodes,name='Model'):\n",
    "    # try:\n",
    "    #     os.mkdir(\"temp_files/\"+name)\n",
    "    # except:\n",
    "    #     clean_dir(name)\n",
    "    input_layer = keras.layers.Input(input_shape)\n",
    "    dense1 = keras.layers.Dense(\n",
    "                                hidden_nodes,\n",
    "                                activation='relu',\n",
    "                                kernel_initializer=\"glorot_uniform\",\n",
    "                                bias_initializer=\"zeros\"\n",
    "                                )(input_layer)\n",
    "    output_layer = keras.layers.Dense(1)(dense1)\n",
    "    model = keras.models.Model(inputs=input_layer, outputs=output_layer,name=name)\n",
    "    print(model.summary())\n",
    "    return(model)\n",
    "    # model_json = model.to_json()\n",
    "Model = make_model(9,35)\n",
    "    # with open(f\"temp_files/{name}/model_architecture.json\", \"w\") as json_file:\n",
    "    #     json_file.write(model_json)\n"
   ]
  },
  {
   "cell_type": "code",
   "execution_count": 99,
   "id": "9fb5d866",
   "metadata": {},
   "outputs": [
    {
     "name": "stdout",
     "output_type": "stream",
     "text": [
      "Step: 0 Loss: 6836.369140625\n",
      "Step: 20 Loss: 2610.975341796875\n",
      "Step: 40 Loss: 360.251953125\n",
      "Step: 60 Loss: 39.1677131652832\n",
      "Step: 80 Loss: 23.27098846435547\n",
      "Step: 100 Loss: 25.79976463317871\n",
      "Step: 120 Loss: 12.03156852722168\n",
      "Step: 140 Loss: 13.036674499511719\n",
      "Step: 160 Loss: 10.370075225830078\n",
      "Step: 180 Loss: 10.952024459838867\n",
      "Step: 200 Loss: 4.816493988037109\n",
      "Step: 220 Loss: 8.52723503112793\n",
      "Step: 240 Loss: 6.819372177124023\n",
      "Step: 260 Loss: 6.102263450622559\n"
     ]
    }
   ],
   "source": [
    "\n",
    "# Instantiate our linear layer (defined above) with 10 units.\n",
    "# linear_layer = Linear(10)\n",
    "\n",
    "# Instantiate a MSE loss function\n",
    "loss_fn = tf.keras.losses.MeanSquaredError()\n",
    "\n",
    "# Instantiate an optimizer.\n",
    "optimizer = tf.keras.optimizers.Adam(learning_rate=1e-3)\n",
    "\n",
    "# Iterate over the batches of the dataset.\n",
    "for step, (x, y) in enumerate(dataset):\n",
    "\n",
    "    # Open a GradientTape.\n",
    "    with tf.GradientTape(persistent=True) as tape:\n",
    "        tape.watch(x)\n",
    "        \n",
    "        # Forward pass.\n",
    "        pred = Model(x)\n",
    "\n",
    "        # Loss value for this batch.\n",
    "        loss = loss_fn(y, pred)\n",
    "\n",
    "    # Get gradients of the loss wrt the weights.\n",
    "    gradients = tape.gradient(loss, Model.trainable_weights)\n",
    "\n",
    "    # Get gradients of the pred wrt x\n",
    "    dy_dx = tape.gradient(pred,x)\n",
    "\n",
    "    # Update the weights of our linear layer.\n",
    "    optimizer.apply_gradients(zip(gradients, Model.trainable_weights))\n",
    "\n",
    "    # Logging.\n",
    "    if step % 20 == 0:\n",
    "        print(\"Step:\", step, \"Loss:\", float(loss))\n",
    "        # print(gradients)\n"
   ]
  },
  {
   "cell_type": "code",
   "execution_count": 103,
   "id": "1bb65ee9",
   "metadata": {},
   "outputs": [
    {
     "name": "stdout",
     "output_type": "stream",
     "text": [
      "(9,)\n"
     ]
    },
    {
     "data": {
      "text/plain": [
       "<matplotlib.collections.PathCollection at 0x7f574c988ee0>"
      ]
     },
     "execution_count": 103,
     "metadata": {},
     "output_type": "execute_result"
    },
    {
     "data": {
      "image/png": "[encoded data removed]",
      "text/plain": [
       "<Figure size 640x480 with 1 Axes>"
      ]
     },
     "metadata": {},
     "output_type": "display_data"
    },
    {
     "data": {
      "image/png": "[encoded data removed]",
      "text/plain": [
       "<Figure size 640x480 with 1 Axes>"
      ]
     },
     "metadata": {},
     "output_type": "display_data"
    }
   ],
   "source": [
    "\n",
    "# x,y = numeric_dataset\n",
    "# print(x)\n",
    "# Full_dataset = numeric_dataset.shuffle(y_train.shape[0]).batch(y_train.shape[0])\n",
    "\n",
    "\n",
    "# for step, (x, y) in enumerate(Full_dataset):\n",
    "#     print(x.shape)\n",
    "    \n",
    "#     # Open a GradientTape.\n",
    "#     with tf.GradientTape(persistent=True) as tape:\n",
    "#         tape.watch(x)\n",
    "        \n",
    "#         # Forward pass.\n",
    "#         pred = Model(x)\n",
    "\n",
    "#         # Loss value for this batch.\n",
    "#         loss = loss_fn(y, pred)\n",
    "\n",
    "#     # Get gradients of the loss wrt the weights.\n",
    "#     gradients = tape.gradient(loss, Model.trainable_weights)\n",
    "\n",
    "#     # Get gradients of the pred wrt x\n",
    "#     dy_dx = tape.gradient(pred,x)\n",
    "\n",
    "\n",
    "derivs = np.array([dy_dx[x].numpy() for x in range(len(dy_dx))])\n",
    "\n",
    "SSD = (derivs**2).sum(axis=0)\n",
    "print(SSD.shape)\n",
    "\n",
    "plt.figure()\n",
    "plt.bar(x_train.columns,SSD/SSD.sum(axis=0))\n",
    "\n",
    "plt.figure()\n",
    "plt.scatter(x_train['TA'],derivs[:,0])"
   ]
  }
 ],
 "metadata": {
  "kernelspec": {
   "display_name": "tf",
   "language": "python",
   "name": "python3"
  },
  "language_info": {
   "codemirror_mode": {
    "name": "ipython",
    "version": 3
   },
   "file_extension": ".py",
   "mimetype": "text/x-python",
   "name": "python",
   "nbconvert_exporter": "python",
   "pygments_lexer": "ipython3",
   "version": "3.10.9"
  },
  "vscode": {
   "interpreter": {
    "hash": "b3c7d882d9aa33b318aea140590f044190ccc55a72e28e2c1694cbf658f6e1f7"
   }
  }
 },
 "nbformat": 4,
 "nbformat_minor": 5
}
