{
 "cells": [
  {
   "cell_type": "code",
   "execution_count": 211,
   "id": "2222ccf0",
   "metadata": {},
   "outputs": [],
   "source": [
    "from tensorflow import keras\n",
    "import numpy as np\n",
    "import matplotlib.pyplot as plt\n",
    "import pandas as pd\n",
    "from sklearn.preprocessing import StandardScaler\n",
    "from sklearn import metrics\n"
   ]
  },
  {
   "cell_type": "code",
   "execution_count": 193,
   "id": "25f05920",
   "metadata": {},
   "outputs": [
    {
     "name": "stderr",
     "output_type": "stream",
     "text": [
      "C:\\ProgramData\\Anaconda3\\lib\\site-packages\\IPython\\core\\interactiveshell.py:3165: DtypeWarning: Columns (12,14,18,20,22,28,30) have mixed types.Specify dtype option on import or set low_memory=False.\n",
      "  has_raised = await self.run_ast_nodes(code_ast.body, cell_name,\n"
     ]
    }
   ],
   "source": [
    "root_url = \"Data/DELTA BURNS BOG.csv\"\n",
    "Data = pd.read_csv(root_url)\n",
    "# Data = Data.loc[]"
   ]
  },
  {
   "cell_type": "code",
   "execution_count": 194,
   "id": "648bbf79",
   "metadata": {},
   "outputs": [
    {
     "name": "stdout",
     "output_type": "stream",
     "text": [
      "(66513, 3)\n"
     ]
    }
   ],
   "source": [
    "Data = (Data[['TEMP', 'DEW_POINT_TEMP','RELATIVE_HUMIDITY']].dropna())\n",
    "print(Data.shape)"
   ]
  },
  {
   "cell_type": "code",
   "execution_count": 239,
   "id": "f385aea4",
   "metadata": {},
   "outputs": [
    {
     "name": "stdout",
     "output_type": "stream",
     "text": [
      "(40232, 2)\n",
      "(26281, 2)\n"
     ]
    }
   ],
   "source": [
    "X = Data[['TEMP', 'DEW_POINT_TEMP']].values\n",
    "Y = Data['RELATIVE_HUMIDITY'].values.reshape(-1,1)\n",
    "\n",
    "x_test = Data.loc[Data['RELATIVE_HUMIDITY']>=95,['TEMP', 'DEW_POINT_TEMP']].values\n",
    "x_train = Data.loc[Data['RELATIVE_HUMIDITY']<95,['TEMP', 'DEW_POINT_TEMP']].values\n",
    "y_test = Data.loc[Data['RELATIVE_HUMIDITY']>=95,'RELATIVE_HUMIDITY'].values\n",
    "y_train = Data.loc[Data['RELATIVE_HUMIDITY']<95,'RELATIVE_HUMIDITY'].values\n",
    "\n",
    "print(x_train.shape)\n",
    "print(x_test.shape)"
   ]
  },
  {
   "cell_type": "code",
   "execution_count": 240,
   "id": "2088ac83",
   "metadata": {},
   "outputs": [
    {
     "name": "stdout",
     "output_type": "stream",
     "text": [
      "('You must install pydot (`pip install pydot`) and install graphviz (see instructions at https://graphviz.gitlab.io/download/) ', 'for plot_model/model_to_dot to work.')\n"
     ]
    }
   ],
   "source": [
    "def make_model(input_shape):\n",
    "    input_layer = keras.layers.Input(input_shape)\n",
    "    conv1 = keras.layers.Dense(64, activation='relu',\n",
    "    kernel_initializer=\"glorot_uniform\",\n",
    "    bias_initializer=\"zeros\",)(input_layer)\n",
    "#     conv1 = keras.layers.BatchNormalization()(conv1)\n",
    "#     conv1 = keras.layers.ReLU()(conv1)\n",
    "\n",
    "    output_layer = keras.layers.Dense(1)(conv1)\n",
    "\n",
    "    return keras.models.Model(inputs=input_layer, outputs=output_layer)\n",
    "\n",
    "\n",
    "model = make_model(input_shape=x_train.shape[1:])\n",
    "keras.utils.plot_model(model, show_shapes=True)\n"
   ]
  },
  {
   "cell_type": "code",
   "execution_count": 241,
   "id": "5fec1f4a",
   "metadata": {},
   "outputs": [
    {
     "name": "stdout",
     "output_type": "stream",
     "text": [
      "Epoch 1/250\n",
      "1006/1006 [==============================] - 2s 2ms/step - loss: 1695.2905 - val_loss: 1270.6602\n",
      "Epoch 2/250\n",
      "1006/1006 [==============================] - 1s 1ms/step - loss: 507.6159 - val_loss: 122.0842\n",
      "Epoch 3/250\n",
      "1006/1006 [==============================] - 1s 1ms/step - loss: 26.8517 - val_loss: 10.6311\n",
      "Epoch 4/250\n",
      "1006/1006 [==============================] - 1s 1ms/step - loss: 4.5775 - val_loss: 4.3088\n",
      "Epoch 5/250\n",
      "1006/1006 [==============================] - 1s 1ms/step - loss: 1.8407 - val_loss: 1.8348\n",
      "Epoch 6/250\n",
      "1006/1006 [==============================] - 1s 1ms/step - loss: 0.7540 - val_loss: 0.9318\n",
      "Epoch 7/250\n",
      "1006/1006 [==============================] - 2s 2ms/step - loss: 0.4274 - val_loss: 0.6205\n",
      "Epoch 8/250\n",
      "1006/1006 [==============================] - 1s 1ms/step - loss: 0.3302 - val_loss: 0.4942\n",
      "Epoch 9/250\n",
      "1006/1006 [==============================] - 1s 1ms/step - loss: 0.2816 - val_loss: 0.3952\n",
      "Epoch 10/250\n",
      "1006/1006 [==============================] - 1s 1ms/step - loss: 0.2459 - val_loss: 0.3264\n",
      "Epoch 11/250\n",
      "1006/1006 [==============================] - 1s 1ms/step - loss: 0.2256 - val_loss: 0.3177\n",
      "Epoch 12/250\n",
      "1006/1006 [==============================] - 1s 1ms/step - loss: 0.2074 - val_loss: 0.2812\n",
      "Epoch 13/250\n",
      "1006/1006 [==============================] - 1s 1ms/step - loss: 0.1962 - val_loss: 0.2626\n",
      "Epoch 14/250\n",
      "1006/1006 [==============================] - 1s 1ms/step - loss: 0.1907 - val_loss: 0.2693\n",
      "Epoch 15/250\n",
      "1006/1006 [==============================] - 2s 1ms/step - loss: 0.1869 - val_loss: 0.2330\n",
      "Epoch 16/250\n",
      "1006/1006 [==============================] - 1s 1ms/step - loss: 0.1823 - val_loss: 0.2212\n",
      "Epoch 17/250\n",
      "1006/1006 [==============================] - 2s 2ms/step - loss: 0.1782 - val_loss: 0.2528\n",
      "Epoch 18/250\n",
      "1006/1006 [==============================] - 1s 1ms/step - loss: 0.1769 - val_loss: 0.2610\n",
      "Epoch 19/250\n",
      "1006/1006 [==============================] - 2s 2ms/step - loss: 0.1731 - val_loss: 0.2010\n",
      "Epoch 20/250\n",
      "1006/1006 [==============================] - 1s 1ms/step - loss: 0.1736 - val_loss: 0.2523\n",
      "Epoch 21/250\n",
      "1006/1006 [==============================] - 1s 1ms/step - loss: 0.1693 - val_loss: 0.2606\n",
      "Epoch 22/250\n",
      "1006/1006 [==============================] - 1s 1ms/step - loss: 0.1664 - val_loss: 0.1947\n",
      "Epoch 23/250\n",
      "1006/1006 [==============================] - 1s 1ms/step - loss: 0.1643 - val_loss: 0.2315\n",
      "Epoch 24/250\n",
      "1006/1006 [==============================] - 1s 1ms/step - loss: 0.1693 - val_loss: 0.2299\n",
      "Epoch 25/250\n",
      "1006/1006 [==============================] - 1s 1ms/step - loss: 0.1656 - val_loss: 0.1925\n",
      "Epoch 26/250\n",
      "1006/1006 [==============================] - 1s 1ms/step - loss: 0.1643 - val_loss: 0.2476\n",
      "Epoch 27/250\n",
      "1006/1006 [==============================] - 1s 1ms/step - loss: 0.1626 - val_loss: 0.2022\n",
      "Epoch 28/250\n",
      "1006/1006 [==============================] - 1s 1ms/step - loss: 0.1630 - val_loss: 0.1897\n",
      "Epoch 29/250\n",
      "1006/1006 [==============================] - 1s 1ms/step - loss: 0.1634 - val_loss: 0.1792\n",
      "Epoch 30/250\n",
      "1006/1006 [==============================] - 1s 1ms/step - loss: 0.1576 - val_loss: 0.2029\n",
      "Epoch 31/250\n",
      "1006/1006 [==============================] - 1s 1ms/step - loss: 0.1638 - val_loss: 0.2100\n",
      "Epoch 32/250\n",
      "1006/1006 [==============================] - 1s 1ms/step - loss: 0.1581 - val_loss: 0.1707\n",
      "Epoch 33/250\n",
      "1006/1006 [==============================] - 1s 1ms/step - loss: 0.1584 - val_loss: 0.2112\n",
      "Epoch 34/250\n",
      "1006/1006 [==============================] - 1s 1ms/step - loss: 0.1595 - val_loss: 0.1724\n",
      "Epoch 35/250\n",
      "1006/1006 [==============================] - 1s 1ms/step - loss: 0.1590 - val_loss: 0.1874\n",
      "Epoch 36/250\n",
      "1006/1006 [==============================] - 1s 1ms/step - loss: 0.1598 - val_loss: 0.2055\n",
      "Epoch 37/250\n",
      "1006/1006 [==============================] - 2s 2ms/step - loss: 0.1589 - val_loss: 0.2025\n",
      "Epoch 38/250\n",
      "1006/1006 [==============================] - 1s 1ms/step - loss: 0.1612 - val_loss: 0.2970\n",
      "Epoch 39/250\n",
      "1006/1006 [==============================] - 1s 1ms/step - loss: 0.1620 - val_loss: 0.1976\n",
      "Epoch 40/250\n",
      "1006/1006 [==============================] - 1s 1ms/step - loss: 0.1560 - val_loss: 0.1886\n",
      "Epoch 41/250\n",
      "1006/1006 [==============================] - 1s 1ms/step - loss: 0.1559 - val_loss: 0.1650\n",
      "Epoch 42/250\n",
      "1006/1006 [==============================] - 1s 1ms/step - loss: 0.1571 - val_loss: 0.1806\n",
      "Epoch 43/250\n",
      "1006/1006 [==============================] - 1s 1ms/step - loss: 0.1636 - val_loss: 0.1692\n",
      "Epoch 44/250\n",
      "1006/1006 [==============================] - 1s 1ms/step - loss: 0.1539 - val_loss: 0.1625\n",
      "Epoch 45/250\n",
      "1006/1006 [==============================] - 1s 1ms/step - loss: 0.1587 - val_loss: 0.1635\n",
      "Epoch 46/250\n",
      "1006/1006 [==============================] - 1s 1ms/step - loss: 0.1532 - val_loss: 0.1916\n",
      "Epoch 47/250\n",
      "1006/1006 [==============================] - 1s 1ms/step - loss: 0.1581 - val_loss: 0.1655\n",
      "Epoch 48/250\n",
      "1006/1006 [==============================] - 1s 1ms/step - loss: 0.1529 - val_loss: 0.1682\n",
      "Epoch 49/250\n",
      "1006/1006 [==============================] - 1s 1ms/step - loss: 0.1556 - val_loss: 0.1914\n",
      "Epoch 50/250\n",
      "1006/1006 [==============================] - 1s 1ms/step - loss: 0.1553 - val_loss: 0.1655\n",
      "Epoch 51/250\n",
      "1006/1006 [==============================] - 1s 1ms/step - loss: 0.1546 - val_loss: 0.1774\n",
      "Epoch 52/250\n",
      "1006/1006 [==============================] - 1s 1ms/step - loss: 0.1568 - val_loss: 0.2246\n",
      "Epoch 53/250\n",
      "1006/1006 [==============================] - 1s 1ms/step - loss: 0.1562 - val_loss: 0.1629\n",
      "Epoch 54/250\n",
      "1006/1006 [==============================] - 2s 2ms/step - loss: 0.1559 - val_loss: 0.1569\n",
      "Epoch 55/250\n",
      "1006/1006 [==============================] - 2s 2ms/step - loss: 0.1519 - val_loss: 0.1586\n",
      "Epoch 56/250\n",
      "1006/1006 [==============================] - 1s 1ms/step - loss: 0.1577 - val_loss: 0.1587\n",
      "Epoch 57/250\n",
      "1006/1006 [==============================] - 2s 2ms/step - loss: 0.1533 - val_loss: 0.1699\n",
      "Epoch 58/250\n",
      "1006/1006 [==============================] - 1s 1ms/step - loss: 0.1573 - val_loss: 0.1717\n",
      "Epoch 59/250\n",
      "1006/1006 [==============================] - 1s 1ms/step - loss: 0.1555 - val_loss: 0.1606\n",
      "Epoch 60/250\n",
      "1006/1006 [==============================] - 2s 2ms/step - loss: 0.1590 - val_loss: 0.1617\n",
      "Epoch 61/250\n",
      "1006/1006 [==============================] - 2s 2ms/step - loss: 0.1501 - val_loss: 0.1760\n",
      "Epoch 62/250\n",
      "1006/1006 [==============================] - 1s 1ms/step - loss: 0.1545 - val_loss: 0.1815\n",
      "Epoch 63/250\n",
      "1006/1006 [==============================] - 2s 2ms/step - loss: 0.1575 - val_loss: 0.1898\n",
      "Epoch 64/250\n",
      "1006/1006 [==============================] - 2s 2ms/step - loss: 0.1503 - val_loss: 0.1806\n",
      "Epoch 00064: early stopping\n"
     ]
    }
   ],
   "source": [
    "epochs = 250\n",
    "batch_size = 32\n",
    "\n",
    "callbacks = [\n",
    "    keras.callbacks.ModelCheckpoint(\n",
    "        \"best_model.h5\", save_best_only=True, monitor=\"val_loss\"\n",
    "    ),\n",
    "    keras.callbacks.EarlyStopping(monitor=\"val_loss\", patience=10, verbose=1),\n",
    "]\n",
    "\n",
    "model.compile(\n",
    "    optimizer=\"adam\",\n",
    "    loss=\"mean_squared_error\",\n",
    ")\n",
    "\n",
    "history = model.fit(\n",
    "    x_train,\n",
    "    y_train,\n",
    "    batch_size=batch_size,\n",
    "    epochs=epochs,\n",
    "    callbacks=callbacks,\n",
    "    validation_split=0.2,\n",
    "    verbose=1,\n",
    ")"
   ]
  },
  {
   "cell_type": "code",
   "execution_count": 242,
   "id": "ceeb2340",
   "metadata": {},
   "outputs": [
    {
     "name": "stdout",
     "output_type": "stream",
     "text": [
      "1258/1258 [==============================] - 1s 988us/step - loss: 0.1372\n",
      "Test loss 0.13724437355995178\n"
     ]
    }
   ],
   "source": [
    "model = keras.models.load_model(\"best_model.h5\")\n",
    "\n",
    "test_loss = model.evaluate(x_train, y_train)\n",
    "\n",
    "# print(\"Test accuracy\", test_acc)\n",
    "print(\"Test loss\", test_loss)\n",
    "\n",
    "\n",
    "# print(x_train)\n",
    "# print(y_train)"
   ]
  },
  {
   "cell_type": "code",
   "execution_count": 243,
   "id": "cdfbea59",
   "metadata": {},
   "outputs": [
    {
     "data": {
      "image/png": "[encoded data removed]",
      "text/plain": [
       "<Figure size 432x288 with 1 Axes>"
      ]
     },
     "metadata": {
      "needs_background": "light"
     },
     "output_type": "display_data"
    }
   ],
   "source": [
    "metric = \"loss\"\n",
    "plt.figure()\n",
    "plt.plot(history.history[metric])\n",
    "plt.plot(history.history[\"val_\" + metric])\n",
    "plt.title(\"model \" + metric)\n",
    "plt.ylabel(metric, fontsize=\"large\")\n",
    "plt.xlabel(\"epoch\", fontsize=\"large\")\n",
    "plt.legend([\"train\", \"val\"], loc=\"best\")\n",
    "plt.show()\n",
    "plt.close()\n",
    "\n"
   ]
  },
  {
   "cell_type": "code",
   "execution_count": 248,
   "id": "e9d8e6f7",
   "metadata": {},
   "outputs": [
    {
     "name": "stdout",
     "output_type": "stream",
     "text": [
      "0.9289420796465098\n"
     ]
    },
    {
     "data": {
      "image/png": "[encoded data removed]",
      "text/plain": [
       "<Figure size 432x288 with 1 Axes>"
      ]
     },
     "metadata": {
      "needs_background": "light"
     },
     "output_type": "display_data"
    }
   ],
   "source": [
    "pred = model.predict(x_test)\n",
    "# print(x_train[:100].shape)\n",
    "\n",
    "plt.figure()\n",
    "plt.scatter(y_test,pred)\n",
    "plt.ylabel('Estiamted')\n",
    "plt.xlabel('Observed')\n",
    "print(metrics.r2_score(pred,y_test))"
   ]
  },
  {
   "cell_type": "code",
   "execution_count": 246,
   "id": "4653e985",
   "metadata": {},
   "outputs": [
    {
     "data": {
      "text/plain": [
       "<matplotlib.collections.PathCollection at 0x2be9968f430>"
      ]
     },
     "execution_count": 246,
     "metadata": {},
     "output_type": "execute_result"
    },
    {
     "data": {
      "image/png": "[encoded data removed]",
      "text/plain": [
       "<Figure size 432x288 with 1 Axes>"
      ]
     },
     "metadata": {
      "needs_background": "light"
     },
     "output_type": "display_data"
    }
   ],
   "source": [
    "plt.figure()\n",
    "plt.scatter(x_test[:,0],y_test)\n",
    "plt.scatter(x_test[:,0],pred)"
   ]
  },
  {
   "cell_type": "code",
   "execution_count": null,
   "id": "66fbdd16",
   "metadata": {},
   "outputs": [],
   "source": []
  }
 ],
 "metadata": {
  "kernelspec": {
   "display_name": "tensor-env",
   "language": "python",
   "name": "python3"
  },
  "language_info": {
   "codemirror_mode": {
    "name": "ipython",
    "version": 3
   },
   "file_extension": ".py",
   "mimetype": "text/x-python",
   "name": "python",
   "nbconvert_exporter": "python",
   "pygments_lexer": "ipython3",
   "version": "3.8.8"
  },
  "vscode": {
   "interpreter": {
    "hash": "769a5e11a348735bc8bb803c6e914fad955f50b196304bb6ee54be5711de95de"
   }
  }
 },
 "nbformat": 4,
 "nbformat_minor": 5
}
